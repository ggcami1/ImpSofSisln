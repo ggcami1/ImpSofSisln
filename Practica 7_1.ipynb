{
 "cells": [
  {
   "cell_type": "code",
   "execution_count": 19,
   "id": "1c8cafc8-52ff-495d-ba6d-67104a766406",
   "metadata": {},
   "outputs": [
    {
     "name": "stdin",
     "output_type": "stream",
     "text": [
      "Ingresa un número del 1 al 12:  6\n"
     ]
    },
    {
     "name": "stdout",
     "output_type": "stream",
     "text": [
      "El mes 6 Es Junio 30\n"
     ]
    }
   ],
   "source": [
    "numero = int(input(\"Ingresa un número del 1 al 12: \")) \n",
    "mes = [\"Enero 31\",\"Febrero 28\",\"Marzo 31\",\"Abril 30\",\"Mayo 31\",\"Junio 30\",\"Julio 31\",\"Agosto 31\",\"Septiembre 30\",\"Octubre 31\",\"Noviembre 30\",\"Diciembre 31\"]\n",
    "if (numero >=1 and numero <=12):\n",
    "    print(\"El mes \"+str(numero)+\" Es \"+mes[numero-1])\n",
    "else:\n",
    "    print(\"El numero \"+str(numero) +\" no es validdo\")"
   ]
  }
 ],
 "metadata": {
  "kernelspec": {
   "display_name": "Python 3 (ipykernel)",
   "language": "python",
   "name": "python3"
  },
  "language_info": {
   "codemirror_mode": {
    "name": "ipython",
    "version": 3
   },
   "file_extension": ".py",
   "mimetype": "text/x-python",
   "name": "python",
   "nbconvert_exporter": "python",
   "pygments_lexer": "ipython3",
   "version": "3.12.7"
  }
 },
 "nbformat": 4,
 "nbformat_minor": 5
}
