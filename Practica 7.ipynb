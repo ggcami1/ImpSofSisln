{
 "cells": [
  {
   "cell_type": "code",
   "execution_count": 3,
   "id": "ec640ba7-c729-4fe4-bcd3-128553a30fc1",
   "metadata": {},
   "outputs": [
    {
     "name": "stdin",
     "output_type": "stream",
     "text": [
      "Ingresa el porcentaje del alumno:  101\n"
     ]
    },
    {
     "name": "stdout",
     "output_type": "stream",
     "text": [
      "El grado del alumno es: A\n"
     ]
    }
   ],
   "source": [
    "porcentaje = float(input(\"Ingresa el porcentaje del alumno: \"))\n",
    "if porcentaje > 90:\n",
    "        grado = 'A'\n",
    "elif 80 < porcentaje <=90:\n",
    "        grado = 'B'\n",
    "elif 60 <= porcentaje <= 80: \n",
    "        grado = 'C'\n",
    "else: \n",
    "    grado = 'D'\n",
    "print(f\"El grado del alumno es: {grado}\")\n"
   ]
  },
  {
   "cell_type": "code",
   "execution_count": 7,
   "id": "4f16681a-b943-4a1d-92e1-21656a8631ed",
   "metadata": {},
   "outputs": [
    {
     "name": "stdin",
     "output_type": "stream",
     "text": [
      "Ingresa el precio de la bicicleta:  3000\n"
     ]
    },
    {
     "name": "stdout",
     "output_type": "stream",
     "text": [
      "El impuesto que debes pagar es: 150.00\n"
     ]
    }
   ],
   "source": [
    "precio = float(input(\"Ingresa el precio de la bicicleta: \"))\n",
    "if precio > 100000:\n",
    "    impuesto = precio * 0.15\n",
    "elif 50000 < precio <= 100000:\n",
    "    impuesto = precio * 0.10\n",
    "else:\n",
    "    impuesto = precio * 0.05\n",
    "print(f\"El impuesto que debes pagar es: {impuesto:.2f}\")\n"
   ]
  },
  {
   "cell_type": "code",
   "execution_count": 9,
   "id": "b89d1fcf-078d-4920-9a67-4e7e57c99a22",
   "metadata": {},
   "outputs": [
    {
     "name": "stdin",
     "output_type": "stream",
     "text": [
      "Ingresa un año:  2022\n"
     ]
    },
    {
     "name": "stdout",
     "output_type": "stream",
     "text": [
      "El año 2022 no es bisiesto.\n"
     ]
    }
   ],
   "source": [
    "año = int(input(\"Ingresa un año: \"))\n",
    "if (año % 4 == 0 and año % 100 != 0) or (año % 400 == 0):\n",
    "    print(f\"El año {año} es bisiesto:\")\n",
    "else:\n",
    "    print(f\"El año {año} no es bisiesto.\")\n",
    "    "
   ]
  },
  {
   "cell_type": "code",
   "execution_count": 19,
   "id": "d6c927fd-314a-4f65-acd7-dc7c3748d4d3",
   "metadata": {},
   "outputs": [
    {
     "name": "stdin",
     "output_type": "stream",
     "text": [
      "Ingresa un número del 1 al 7:  2\n"
     ]
    }
   ],
   "source": [
    "numero = int(input(\"Ingresa un número del 1 al 7: \")) \n",
    "semana = [\"Domingo\",\"Lunes\",\"Martes\",\"Miércoles\",\"Jueves\",\"Viernes\",\"Sábado\"]\n",
    "print(\"El día correspondiente es : \",semana[)\n",
    "    "
   ]
  }
 ],
 "metadata": {
  "kernelspec": {
   "display_name": "Python [conda env:base] *",
   "language": "python",
   "name": "conda-base-py"
  },
  "language_info": {
   "codemirror_mode": {
    "name": "ipython",
    "version": 3
   },
   "file_extension": ".py",
   "mimetype": "text/x-python",
   "name": "python",
   "nbconvert_exporter": "python",
   "pygments_lexer": "ipython3",
   "version": "3.12.7"
  }
 },
 "nbformat": 4,
 "nbformat_minor": 5
}
